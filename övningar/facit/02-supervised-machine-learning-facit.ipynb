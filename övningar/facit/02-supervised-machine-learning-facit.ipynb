{
  "cells": [
    {
      "metadata": {},
      "cell_type": "markdown",
      "source": "# Machine learning med tio rader kod\nAtt lära en maskin genom exempel och erfarenheter, istället för att manuellt mata in regler. Detta genom supervised machine learning.\nMaskinen ska förutspå om en ny frukt är en apelsin eller äpple baserat på tidigare erfarenheter."
    },
    {
      "metadata": {},
      "cell_type": "markdown",
      "source": "## 1. Samla in träningsdata\nDet som avslöjar denna machine learning som just en *supervised* machine learning är för att vi har labels. Labels är de etiketter med beskrivande svar vi matar maskinen med.\n\n*Obs! De kantiga parenteserna får du till genom knappen Alt Gr och siffrorna 8 eller 9 på Windows. På Mac heter Alt Gr istället Option.*"
    },
    {
      "metadata": {
        "trusted": true
      },
      "cell_type": "code",
      "source": "from sklearn import tree\n# traningsdata: vikt i gram, ytans beskaffenhet (0 för len, 1 för gropig)\n# traningsdata = [[140, \"len\"], [130, \"len\"], [150, \"gropig\"], [170, \"gropig\"]]\ntraningsdata = [[140, 0], [130, 0], [150, 1], [170, 1]]\n\n# etiketter = [\"äpple\", \"äpple\", \"apelsin\", \"apelsin\"]\n# etiketter = 0 för äpple, 1 för apelsin\netiketter = [0, 0, 1, 1]",
      "execution_count": null,
      "outputs": []
    },
    {
      "metadata": {},
      "cell_type": "markdown",
      "source": "## 2. Träna upp klassificeraren och leta mönster i data\nVi kör med ett beslutsträd (decision tree)"
    },
    {
      "metadata": {
        "trusted": true
      },
      "cell_type": "code",
      "source": "klass = tree.DecisionTreeClassifier()\nklass = klass.fit(traningsdata, etiketter)",
      "execution_count": null,
      "outputs": []
    },
    {
      "metadata": {},
      "cell_type": "markdown",
      "source": "## 3. Predicera\nFörutsäg vilken sorts frukt något är baserat på dess egenskaper"
    },
    {
      "metadata": {
        "trusted": true
      },
      "cell_type": "code",
      "source": "ny_frukt = [[145, 1]] # ny frukt, 180 gram och gropig yta\n\nif 1 in klass.predict(ny_frukt):\n    print(\"Apelsin\")\nelse:\n    print(\"Äpple\")",
      "execution_count": null,
      "outputs": []
    },
    {
      "metadata": {},
      "cell_type": "markdown",
      "source": "Grattis! Nu har du prövat på övervakad maskininlärning, en av AI-teknikerna."
    }
  ],
  "metadata": {
    "kernelspec": {
      "name": "python3",
      "display_name": "Python 3",
      "language": "python"
    },
    "language_info": {
      "mimetype": "text/x-python",
      "nbconvert_exporter": "python",
      "name": "python",
      "file_extension": ".py",
      "version": "3.5.4",
      "pygments_lexer": "ipython3",
      "codemirror_mode": {
        "version": 3,
        "name": "ipython"
      }
    }
  },
  "nbformat": 4,
  "nbformat_minor": 1
}