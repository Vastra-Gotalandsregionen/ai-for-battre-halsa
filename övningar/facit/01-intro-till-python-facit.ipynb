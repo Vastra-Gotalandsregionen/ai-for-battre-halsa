{
  "cells": [
    {
      "metadata": {},
      "cell_type": "markdown",
      "source": "# En introduktion till Python-programmering\nDen här miljön kallas för Jupyter och är ett enkelt sätt att stegvis bygga upp något. Jupyter och programmeringsspråket Python är mycket populärt inom yrkeskåren kallad *data science*, det vill säga de som jobbar i gränslandet mellan statistik och systemutveckling. De som utvecklar AI-tekniker brukar ofta vara just data scientists."
    },
    {
      "metadata": {},
      "cell_type": "markdown",
      "source": "## 0. Intro till Jupyter\nDe här olika rutorna kallas för celler. De som har vit bakgrund är vanlig text och fungerar som dokumentation. Kod skriver du in i rutor med grå bakgrundsfärg. Detta kan man råka fumla till, så då markerar man en cell och väljer antingen **Markdown** eller **Code** i rullistan ovan.\n\nI verktygsfältet ovan finns några fler saker du behöver känna till. Knappen **Run** är den som kör en cell där du skrivit in kod, den gör också att du hoppar ur celler med dokumentation.\nDu kan skapa nya celler under **Insert**. Vill du ta bort en cell markerar du den och går in i **Edit**-menyn."
    },
    {
      "metadata": {},
      "cell_type": "markdown",
      "source": "## 1. Skriv ut något på skärmen\nEn klassiker är att skriva ut texten \"Hello world!\". Det gör vi med kommandot print()"
    },
    {
      "metadata": {
        "trusted": true
      },
      "cell_type": "code",
      "source": "print(\"Hello world!\")",
      "execution_count": null,
      "outputs": []
    },
    {
      "metadata": {},
      "cell_type": "markdown",
      "source": "## 2. Operatorer\nEtt fint ord för de olika räknesätten (och lite annat)."
    },
    {
      "metadata": {
        "trusted": true
      },
      "cell_type": "code",
      "source": "# skriv ut summan av en addition\nprint(1+3)\n\n# en multiplikation som är dryg i huvudräkning\nprint(78324687324676*12321)\n\n# division\nprint(1/3)\n\n# sammanfoga text, så kallad konkatenering\nprint(\"Hello\" + \"world\" + \"!\")",
      "execution_count": null,
      "outputs": []
    },
    {
      "metadata": {},
      "cell_type": "markdown",
      "source": "## 3. Variabler\nFör att mellanlagra information kan man använda variabler. Det är som namngivna behållare du kan stoppa ner lite allt möjligt. En poäng med variabler är att din kod blir lättare att läsa."
    },
    {
      "metadata": {
        "trusted": true
      },
      "cell_type": "code",
      "source": "sida_y = 9\nsida_x = 7\n\nomkrets_rekt = (sida_y * 2) + (sida_x * 2)\nprint(omkrets_rekt)",
      "execution_count": null,
      "outputs": []
    },
    {
      "metadata": {},
      "cell_type": "markdown",
      "source": "## 4. Lista saker\nDet finns flera olika sorters listor inom programmering. De är specialiserade för olika användningsområden, som att alltid vara sorterade eller kunna innehålla olika komplexa saker."
    },
    {
      "metadata": {
        "trusted": true
      },
      "cell_type": "code",
      "source": "favvo_frukt = list()\n\n# lägga till något till en lista\nfavvo_frukt.append(\"Äpple\")\nfavvo_frukt.append(\"Apelsin\")\nprint(favvo_frukt)\n\nprint(type(favvo_frukt))",
      "execution_count": null,
      "outputs": []
    },
    {
      "metadata": {},
      "cell_type": "markdown",
      "source": "## 5. Importera funktioner och moduler\nProgrammeringsspråk har en massa funktioner man kan lära känna och ha nytta av. Exempelvis kan man be om hjälp med saker som värdet Pi istället för att skriva in decimalerna för hand. Värdet av Pi finns i en modul som heter 'math', det är inte konstigare än att vi importerar 'math'"
    },
    {
      "metadata": {
        "trusted": true
      },
      "cell_type": "code",
      "source": "import math\n\nprint(\"Pi är\", math.pi)",
      "execution_count": null,
      "outputs": []
    },
    {
      "metadata": {},
      "cell_type": "markdown",
      "source": "## 6. If-satser\nAI beskylls ibland för att enbart bestå av en massa villkor, if-satser alltså. Här ska vi sätta upp villkor. Skulle du kunna avslöja en \"AI\" som har en miljon färdiga svar på frågor?"
    },
    {
      "metadata": {
        "trusted": true
      },
      "cell_type": "code",
      "source": "from datetime import date\nveckodag = date.weekday(date.today()) # måndag är 0, tisdag är 1 -> söndag är 6\nprint(\"Nummer på veckodagen\", veckodag)\n\nif veckodag > 4:\n    print(\"Nu är det helg!\")\nelif veckodag is 4:\n    print(\"Nästan helg, det är ju fredag\")\nelse:\n    print(\"Nope, inte helg...\")",
      "execution_count": null,
      "outputs": []
    },
    {
      "metadata": {},
      "cell_type": "markdown",
      "source": "## 7. Slutligen, slingor, loopar, iteratorer, kärt barn\nFör att sysselsätta en maskin med lite mer jobb kan man instruera den att göra något tills den är färdig. Här följer några exempel på det. Vem blir första att skriva en evighetsloop? :)"
    },
    {
      "metadata": {
        "trusted": true
      },
      "cell_type": "code",
      "source": "#skapa en lista\nlista_med_namn = [\"Nisse\", \"Greta\", \"Magdalena\", \"Harald\", \"Lily\", \"Sven\"]\n\n# mata en for-loop med en lista av något och den betar av lista\nfor namn in lista_med_namn:\n    print(namn)",
      "execution_count": null,
      "outputs": []
    },
    {
      "metadata": {},
      "cell_type": "markdown",
      "source": "## Bonus: While-loop"
    },
    {
      "metadata": {
        "trusted": true
      },
      "cell_type": "code",
      "source": "# en annan är while-loopen, den körs tills dess den blir tillsagd\n# att sluta, alternativt världen går under\n\nlangd_pa_lista = len(lista_med_namn) # nu vet vi att listan har sex namn\ni = 0 # det här är vår räknare som kommer räkna upp tills dess den nått samma antal som listan\n\nwhile(i<langd_pa_lista):\n    print(i, lista_med_namn[i])\n    i += 1\n    ",
      "execution_count": null,
      "outputs": []
    }
  ],
  "metadata": {
    "kernelspec": {
      "name": "python3",
      "display_name": "Python 3",
      "language": "python"
    },
    "language_info": {
      "mimetype": "text/x-python",
      "nbconvert_exporter": "python",
      "name": "python",
      "pygments_lexer": "ipython3",
      "version": "3.5.4",
      "file_extension": ".py",
      "codemirror_mode": {
        "version": 3,
        "name": "ipython"
      }
    }
  },
  "nbformat": 4,
  "nbformat_minor": 2
}