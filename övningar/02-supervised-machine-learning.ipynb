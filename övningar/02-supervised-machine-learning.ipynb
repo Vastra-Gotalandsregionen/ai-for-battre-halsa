{
 "cells": [
  {
   "cell_type": "markdown",
   "metadata": {},
   "source": [
    "# Machine learning med tio rader kod\n",
    "Att lära en maskin genom exempel och erfarenheter, istället för att manuellt mata in regler. Detta genom supervised machine learning.\n",
    "Maskinen ska förutspå om en ny frukt är en apelsin eller äpple baserat på tidigare erfarenheter."
   ]
  },
  {
   "cell_type": "markdown",
   "metadata": {},
   "source": [
    "## 1. Samla in träningsdata\n",
    "Det som avslöjar denna machine learning som just en *supervised* machine learning är för att vi har labels. Labels är de etiketter med beskrivande svar vi matar maskinen med."
   ]
  },
  {
   "cell_type": "code",
   "execution_count": 1,
   "metadata": {},
   "outputs": [],
   "source": [
    "from sklearn import tree\n",
    "# features: vikt i gram, ytans beskaffenhet (1 för len, 0 för gropig)\n",
    "# features = [[140, \"len\"], [130, \"len\"], [150, \"gropig\"], [170, \"gropig\"]]\n",
    "features = [[140, 1], [130, 1], [150, 0], [170, 0]]\n",
    "# labels = [\"äpple\", \"äpple\", \"apelsin\", \"apelsin\"]\n",
    "# labels = 0 för äpple, 1 för apelsin\n",
    "labels = [0, 0, 1, 1]"
   ]
  },
  {
   "cell_type": "markdown",
   "metadata": {},
   "source": [
    "## 2. Träna upp klassificeraren och leta mönster i data\n",
    "Vi kör med ett beslutsträd (decision tree)"
   ]
  },
  {
   "cell_type": "code",
   "execution_count": 2,
   "metadata": {},
   "outputs": [],
   "source": [
    "klass = tree.DecisionTreeClassifier()\n",
    "klass = klass.fit(features, labels)"
   ]
  },
  {
   "cell_type": "markdown",
   "metadata": {},
   "source": [
    "## 3. Predicera\n",
    "Förutsäg vilken sorts frukt något är baserat på dess egenskaper"
   ]
  },
  {
   "cell_type": "code",
   "execution_count": 3,
   "metadata": {},
   "outputs": [
    {
     "name": "stdout",
     "output_type": "stream",
     "text": [
      "Äpple\n"
     ]
    }
   ],
   "source": [
    "ny_frukt = [[170, 1]] # ny frukt, 150 gram och slät yta\n",
    "\n",
    "if 1 in klass.predict(ny_frukt):\n",
    "    print('Apelsin')\n",
    "else:\n",
    "    print('Äpple')"
   ]
  }
 ],
 "metadata": {
  "kernelspec": {
   "display_name": "Python 3",
   "language": "python",
   "name": "python3"
  },
  "language_info": {
   "codemirror_mode": {
    "name": "ipython",
    "version": 3
   },
   "file_extension": ".py",
   "mimetype": "text/x-python",
   "name": "python",
   "nbconvert_exporter": "python",
   "pygments_lexer": "ipython3",
   "version": "3.6.4"
  }
 },
 "nbformat": 4,
 "nbformat_minor": 1
}
