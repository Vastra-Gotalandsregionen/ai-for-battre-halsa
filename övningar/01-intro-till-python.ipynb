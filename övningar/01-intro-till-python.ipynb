{
 "cells": [
  {
   "cell_type": "markdown",
   "metadata": {},
   "source": [
    "# En introduktion till Python-programmering\n",
    "Den här miljön kallas för Jupyter och är ett enkelt sätt att stegvis bygga upp något. Jupyter och programmeringsspråket Python är mycket populärt inom yrkeskåren kallad *data science*, det vill säga de som jobbar i gränslandet mellan statistik och systemutveckling. De som utvecklar AI-tekniker brukar ofta vara just data scientists."
   ]
  },
  {
   "cell_type": "markdown",
   "metadata": {},
   "source": [
    "## 0. Intro till Jupyter\n",
    "De här olika rutorna kallas för celler. De som har vit bakgrund är vanlig text och fungerar som dokumentation. Kod skriver du in i rutor med grå bakgrundsfärg. Detta kan man råka fumla till, så då markerar man en cell och väljer antingen **Markdown** eller **Code** i rullistan ovan.\n",
    "\n",
    "I verktygsfältet ovan finns några fler saker du behöver känna till. Knappen **Run** är den som kör en cell där du skrivit in kod, den gör också att du hoppar ur celler med dokumentation.\n",
    "Du kan skapa nya celler under **Insert**. Vill du ta bort en cell markerar du den och går in i **Edit**-menyn."
   ]
  },
  {
   "cell_type": "markdown",
   "metadata": {},
   "source": [
    "## 1. Skriv ut något på skärmen\n",
    "En klassiker är att skriva ut texten \"Hello world!\". Det gör vi med kommandot print()"
   ]
  },
  {
   "cell_type": "code",
   "execution_count": 3,
   "metadata": {},
   "outputs": [
    {
     "name": "stdout",
     "output_type": "stream",
     "text": [
      "Hello world!\n"
     ]
    }
   ],
   "source": [
    "print('Hello world!')"
   ]
  },
  {
   "cell_type": "markdown",
   "metadata": {},
   "source": [
    "## 2. Kommentarer i koden\n",
    "Att kunna \"kommentera bort\" kod är bra om du laborerar med flera olika varianter av kod, eller att du vill spara undan en gammal variant av koden.\n",
    "Stoppa in en brädgård framför den eller de rader med kod du vill kommentera bort.\n",
    "\n",
    "Vill man kommentera bort mer än en rad inleder man det med tre stycken apostrofer, samt avslutar med tre apostrofer."
   ]
  },
  {
   "cell_type": "code",
   "execution_count": 16,
   "metadata": {},
   "outputs": [
    {
     "name": "stdout",
     "output_type": "stream",
     "text": [
      "Det kommer däremot denna rad\n"
     ]
    }
   ],
   "source": [
    "'''\n",
    "print('Tjo')\n",
    "print('Hallå!? Är den här mikrofonen igång eller?')\n",
    "'''\n",
    "\n",
    "# print('Den här raden kommer inte köras')\n",
    "print('Det kommer däremot denna rad')"
   ]
  },
  {
   "cell_type": "markdown",
   "metadata": {},
   "source": [
    "## 3. Operatorer\n",
    "Ett fint ord för de olika räknesätten (och lite annat)."
   ]
  },
  {
   "cell_type": "code",
   "execution_count": 19,
   "metadata": {},
   "outputs": [
    {
     "name": "stdout",
     "output_type": "stream",
     "text": [
      "4\n",
      "965038472527332996\n",
      "0.3333333333333333\n",
      "Helloworld!\n"
     ]
    }
   ],
   "source": [
    "# skriv ut summan av en addition\n",
    "print(1+3)\n",
    "\n",
    "# en multiplikation som är dryg i huvudräkning\n",
    "print(78324687324676*12321)\n",
    "\n",
    "# division\n",
    "print(1/3)\n",
    "\n",
    "# sammanfoga text, så kallad konkatenering\n",
    "print('Hello' + 'world' + '!')"
   ]
  },
  {
   "cell_type": "markdown",
   "metadata": {},
   "source": [
    "## 4. Variabler\n",
    "För att mellanlagra information kan man använda variabler. Det är som namngivna behållare du kan stoppa ner lite allt möjligt. En poäng med variabler är att din kod blir lättare att läsa."
   ]
  },
  {
   "cell_type": "code",
   "execution_count": 20,
   "metadata": {},
   "outputs": [
    {
     "name": "stdout",
     "output_type": "stream",
     "text": [
      "32\n"
     ]
    }
   ],
   "source": [
    "rektangel_y = 9\n",
    "rektangel_x = 7\n",
    "\n",
    "omkrets = (rektangel_y * 2) + (rektangel_x * 2)\n",
    "print(omkrets)"
   ]
  },
  {
   "cell_type": "markdown",
   "metadata": {},
   "source": [
    "## 5. Datatyper\n",
    "Vi har redan stiftat bekantskap med några datatyper, nämligen följande:\n",
    "* Heltal (integers)\n",
    "* Text (strings)\n",
    "* Decimaltal (decimal)"
   ]
  },
  {
   "cell_type": "code",
   "execution_count": 29,
   "metadata": {},
   "outputs": [
    {
     "name": "stdout",
     "output_type": "stream",
     "text": [
      "<class 'int'>\n",
      "['Kebab', 'Älgstek']\n",
      "<class 'list'>\n"
     ]
    }
   ],
   "source": [
    "# för att ta reda på vad variabeln 'omkrets' i föregående exempel är \n",
    "# för datatyp kan du skriva följande kod - det förutsätter att du kört den cellen\n",
    "print(type(omkrets))\n",
    "\n",
    "# en annan datatyp är en lista\n",
    "favvo_mat = list()\n",
    "\n",
    "# lägga till något till en lista\n",
    "favvo_mat.append('Kebab')\n",
    "favvo_mat.append('Älgstek')\n",
    "print(favvo_mat)\n",
    "\n",
    "print(type(favvo_mat))"
   ]
  },
  {
   "cell_type": "markdown",
   "metadata": {},
   "source": [
    "## 6. Importera funktioner och moduler\n",
    "Programmeringsspråk har en massa funktioner man kan lära känna och ha nytta av. Exempelvis kan man be om hjälp med saker som värdet Pi istället för att skriva in decimalerna för hand. Värdet av Pi finns i en modul som heter 'math', det är inte konstigare än att vi importerar 'math'"
   ]
  },
  {
   "cell_type": "code",
   "execution_count": 25,
   "metadata": {},
   "outputs": [
    {
     "name": "stdout",
     "output_type": "stream",
     "text": [
      "Pi är 3.141592653589793\n"
     ]
    }
   ],
   "source": [
    "import math\n",
    "\n",
    "print('Pi är', math.pi)"
   ]
  },
  {
   "cell_type": "markdown",
   "metadata": {},
   "source": [
    "## 7. Funktioner\n",
    "Du har redan sett några funktioner. Så här långt har vi bara använt funktioner som ingår i själva språket, men nu ska vi bygga en egen.\n",
    "Uppgiften är att räkna ut omkretsen på en rektangel."
   ]
  },
  {
   "cell_type": "code",
   "execution_count": 44,
   "metadata": {},
   "outputs": [
    {
     "name": "stdout",
     "output_type": "stream",
     "text": [
      "Omkretsen är 20\n"
     ]
    }
   ],
   "source": [
    "def omkrets_rektangel(x, y):\n",
    "    omkrets = x*x + y*y\n",
    "    \n",
    "    return omkrets\n",
    "\n",
    "# nu ska vi anropa vår nya funktion och ge den kort- och långsidornas längd\n",
    "print('Omkretsen är', omkrets_rektangel(4, 2)) # 4*2 plus 2*2"
   ]
  },
  {
   "cell_type": "markdown",
   "metadata": {},
   "source": [
    "## 8. If-satser\n",
    "AI beskylls ibland för att enbart bestå av en massa villkor, if-satser alltså. Här ska vi sätta upp villkor. Skulle du kunna avslöja en \"AI\" som har en miljon färdiga svar på frågor?"
   ]
  },
  {
   "cell_type": "code",
   "execution_count": 45,
   "metadata": {},
   "outputs": [
    {
     "name": "stdout",
     "output_type": "stream",
     "text": [
      "Nummer på veckodagen 3\n",
      "Nope, inte helg...\n"
     ]
    }
   ],
   "source": [
    "from datetime import date\n",
    "veckodag = date.weekday(date.today()) # måndag är 1 -> söndag är 7\n",
    "print('Nummer på veckodagen', veckodag)\n",
    "\n",
    "if veckodag > 5:\n",
    "    print('Nu är det helg!')\n",
    "elif veckodag is 5:\n",
    "    print('Nästan helg, det är ju fredag')\n",
    "else:\n",
    "    print('Nope, inte helg...')"
   ]
  },
  {
   "cell_type": "markdown",
   "metadata": {},
   "source": [
    "## 9. Slutligen, slingor, loopar, iteratorer, kärt barn\n",
    "För att sysselsätta en maskin med lite mer jobb kan man instruera den att göra något tills den är färdig. Här följer några exempel på det. Vem blir första att skriva en evighetsloop? :)"
   ]
  },
  {
   "cell_type": "code",
   "execution_count": 47,
   "metadata": {},
   "outputs": [
    {
     "name": "stdout",
     "output_type": "stream",
     "text": [
      "Nisse\n",
      "Greta\n",
      "Magdalena\n",
      "Harald\n",
      "Lily\n",
      "Sven\n"
     ]
    }
   ],
   "source": [
    "# en sorts loop är for-loopen, den matas med en lista av något och betar av den\n",
    "lista_med_namn = ['Nisse', 'Greta', 'Magdalena', 'Harald', 'Lily', 'Sven']\n",
    "\n",
    "for namn in lista_med_namn:\n",
    "    print(namn)"
   ]
  },
  {
   "cell_type": "code",
   "execution_count": 54,
   "metadata": {},
   "outputs": [
    {
     "name": "stdout",
     "output_type": "stream",
     "text": [
      "0 Nisse\n",
      "1 Greta\n",
      "2 Magdalena\n",
      "3 Harald\n",
      "4 Lily\n",
      "5 Sven\n"
     ]
    }
   ],
   "source": [
    "# en annan är while-loopen, den körs tills dess den blir tillsagd\n",
    "# att sluta, alternativt världen går under\n",
    "\n",
    "langd_pa_lista = len(lista_med_namn) # nu vet vi att listan har sex namn\n",
    "i = 0 # det här är vår räknare som kommer räkna upp tills dess den nått samma antal som listan\n",
    "\n",
    "while(i<langd_pa_lista):\n",
    "    print(i, lista_med_namn[i])\n",
    "    i += 1\n",
    "    "
   ]
  }
 ],
 "metadata": {
  "kernelspec": {
   "display_name": "Python 3",
   "language": "python",
   "name": "python3"
  },
  "language_info": {
   "codemirror_mode": {
    "name": "ipython",
    "version": 3
   },
   "file_extension": ".py",
   "mimetype": "text/x-python",
   "name": "python",
   "nbconvert_exporter": "python",
   "pygments_lexer": "ipython3",
   "version": "3.6.4"
  }
 },
 "nbformat": 4,
 "nbformat_minor": 2
}
